{
 "cells": [
  {
   "cell_type": "code",
   "execution_count": 717,
   "metadata": {},
   "outputs": [],
   "source": [
    "import pandas as pd\n",
    "import requests\n",
    "import json\n",
    "from IPython.display import Image\n",
    "df = pd.read_csv(\"../data/songdata_clean.csv\", encoding=\"latin-1\")"
   ]
  },
  {
   "cell_type": "code",
   "execution_count": 718,
   "metadata": {},
   "outputs": [
    {
     "data": {
      "text/html": [
       "<div>\n",
       "<style scoped>\n",
       "    .dataframe tbody tr th:only-of-type {\n",
       "        vertical-align: middle;\n",
       "    }\n",
       "\n",
       "    .dataframe tbody tr th {\n",
       "        vertical-align: top;\n",
       "    }\n",
       "\n",
       "    .dataframe thead th {\n",
       "        text-align: right;\n",
       "    }\n",
       "</style>\n",
       "<table border=\"1\" class=\"dataframe\">\n",
       "  <thead>\n",
       "    <tr style=\"text-align: right;\">\n",
       "      <th></th>\n",
       "      <th>index</th>\n",
       "      <th>artist</th>\n",
       "      <th>song</th>\n",
       "      <th>link</th>\n",
       "      <th>text</th>\n",
       "    </tr>\n",
       "  </thead>\n",
       "  <tbody>\n",
       "    <tr>\n",
       "      <th>0</th>\n",
       "      <td>0</td>\n",
       "      <td>ABBA</td>\n",
       "      <td>She's My Kind of Girl</td>\n",
       "      <td>/a/abba/ahes+my+kind+of+girl_20598417.html</td>\n",
       "      <td>Look at her face, it's a wonderful face  And i...</td>\n",
       "    </tr>\n",
       "    <tr>\n",
       "      <th>1</th>\n",
       "      <td>1</td>\n",
       "      <td>ABBA</td>\n",
       "      <td>Andante, Andante</td>\n",
       "      <td>/a/abba/andante+andante_20002708.html</td>\n",
       "      <td>Take it easy with me, please  Touch me gently ...</td>\n",
       "    </tr>\n",
       "    <tr>\n",
       "      <th>2</th>\n",
       "      <td>2</td>\n",
       "      <td>ABBA</td>\n",
       "      <td>As Good As New</td>\n",
       "      <td>/a/abba/as+good+as+new_20003033.html</td>\n",
       "      <td>I'll never know why I had to go  Why I had to ...</td>\n",
       "    </tr>\n",
       "    <tr>\n",
       "      <th>3</th>\n",
       "      <td>3</td>\n",
       "      <td>ABBA</td>\n",
       "      <td>Bang</td>\n",
       "      <td>/a/abba/bang_20598415.html</td>\n",
       "      <td>Making somebody happy is a question of give an...</td>\n",
       "    </tr>\n",
       "    <tr>\n",
       "      <th>4</th>\n",
       "      <td>4</td>\n",
       "      <td>ABBA</td>\n",
       "      <td>Bang-A-Boomerang</td>\n",
       "      <td>/a/abba/bang+a+boomerang_20002668.html</td>\n",
       "      <td>Making somebody happy is a question of give an...</td>\n",
       "    </tr>\n",
       "  </tbody>\n",
       "</table>\n",
       "</div>"
      ],
      "text/plain": [
       "   index artist                   song  \\\n",
       "0      0   ABBA  She's My Kind of Girl   \n",
       "1      1   ABBA       Andante, Andante   \n",
       "2      2   ABBA         As Good As New   \n",
       "3      3   ABBA                   Bang   \n",
       "4      4   ABBA       Bang-A-Boomerang   \n",
       "\n",
       "                                         link  \\\n",
       "0  /a/abba/ahes+my+kind+of+girl_20598417.html   \n",
       "1       /a/abba/andante+andante_20002708.html   \n",
       "2        /a/abba/as+good+as+new_20003033.html   \n",
       "3                  /a/abba/bang_20598415.html   \n",
       "4      /a/abba/bang+a+boomerang_20002668.html   \n",
       "\n",
       "                                                text  \n",
       "0  Look at her face, it's a wonderful face  And i...  \n",
       "1  Take it easy with me, please  Touch me gently ...  \n",
       "2  I'll never know why I had to go  Why I had to ...  \n",
       "3  Making somebody happy is a question of give an...  \n",
       "4  Making somebody happy is a question of give an...  "
      ]
     },
     "execution_count": 718,
     "metadata": {},
     "output_type": "execute_result"
    }
   ],
   "source": [
    "df.head()"
   ]
  },
  {
   "cell_type": "code",
   "execution_count": 719,
   "metadata": {},
   "outputs": [],
   "source": [
    "def getFromiTunes(path,queryParams=dict()):\n",
    "    url = f\"https://itunes.apple.com{path}\"\n",
    "    res = requests.get(url, params=queryParams)\n",
    "    return res.json()"
   ]
  },
  {
   "cell_type": "code",
   "execution_count": 735,
   "metadata": {},
   "outputs": [],
   "source": [
    "def lyrics (artist, song):\n",
    "    if (song in list(df[\"song\"]))==True and (artist in list(df[\"artist\"]))==True:\n",
    "        text = list(df[\"text\"][df[\"artist\"]==artist][df[\"song\"]==song].items())\n",
    "        queryParams = {\n",
    "            \"term\":f\"{artist} {song}\",\n",
    "            \"media\":\"music\",\n",
    "            \"entity\":\"song\",\n",
    "            \"limit\": 100\n",
    "        }\n",
    "        iTunes = getFromiTunes(\"/search\",queryParams)[\"results\"][0]\n",
    "        print (f\"Lyrics: {text[0][1]} \\nPrice: {iTunes['trackPrice']}$ \\nAlbum: {iTunes['collectionName']} \\nAlbum price: {iTunes['collectionPrice']}$ \\n{display(Image(url=iTunes['artworkUrl60']))}\")\n",
    "    else:\n",
    "        if (artist in list(df[\"artist\"]))==False:\n",
    "            print (\"Sorry, that artist isn`t in our data base\")\n",
    "        else:\n",
    "            songs = list(df[\"song\"][df[\"artist\"]==artist].items())\n",
    "            list_songs = sorted([e[1] for e in songs])\n",
    "            print (f\"We don`t find that song, please find in the list below the songs of the desired artist: \\n{list_songs}\")"
   ]
  },
  {
   "cell_type": "code",
   "execution_count": 739,
   "metadata": {},
   "outputs": [
    {
     "name": "stdout",
     "output_type": "stream",
     "text": [
      "Sorry, that artist isn`t in our data base\n"
     ]
    }
   ],
   "source": [
    "lyrics (\"Julio Iglesias\", \"Ban\")"
   ]
  },
  {
   "cell_type": "code",
   "execution_count": 730,
   "metadata": {},
   "outputs": [
    {
     "data": {
      "text/plain": [
       "False"
      ]
     },
     "execution_count": 730,
     "metadata": {},
     "output_type": "execute_result"
    }
   ],
   "source": [
    "\"Adel\" in list(df[\"artist\"])"
   ]
  },
  {
   "cell_type": "code",
   "execution_count": 592,
   "metadata": {},
   "outputs": [
    {
     "data": {
      "text/plain": [
       "0          She's My Kind of Girl\n",
       "1               Andante, Andante\n",
       "2                 As Good As New\n",
       "3                           Bang\n",
       "4               Bang-A-Boomerang\n",
       "                 ...            \n",
       "108       What About Livingstone\n",
       "109    When All Is Said And Done\n",
       "110    When I Kissed The Teacher\n",
       "111    Why Did It Have To Be Me?\n",
       "112               You Owe Me One\n",
       "Name: song, Length: 113, dtype: object"
      ]
     },
     "execution_count": 592,
     "metadata": {},
     "output_type": "execute_result"
    }
   ],
   "source": [
    "artist = \"ABBA\"\n",
    "df[\"song\"][df[\"artist\"]==artist]"
   ]
  },
  {
   "cell_type": "code",
   "execution_count": 756,
   "metadata": {},
   "outputs": [],
   "source": [
    "def lyrics (artist, song):\n",
    "    if (artist in list(df[\"artist\"]))==False:\n",
    "        print (\"Sorry, your search did not match any result\")    \n",
    "    else:\n",
    "        if (song in list(df[\"song\"]))==True:\n",
    "            text = list(df[\"text\"][df[\"artist\"]==artist][df[\"song\"]==song].items())\n",
    "            queryParams = {\n",
    "                \"term\":f\"{artist} {song}\",\n",
    "                \"media\":\"music\",\n",
    "                \"entity\":\"song\",\n",
    "                \"limit\": 100\n",
    "            }\n",
    "            iTunes = getFromiTunes(\"/search\",queryParams)[\"results\"][0]\n",
    "            print (f\"Lyrics: {text[0][1]} \\nPrice: {iTunes['trackPrice']}$ \\nAlbum: {iTunes['collectionName']} \\nAlbum price: {iTunes['collectionPrice']}$ \\n{display(Image(url=iTunes['artworkUrl60']))}\")\n",
    "        else:\n",
    "            songs = list(df[\"song\"][df[\"artist\"]==artist].items())\n",
    "            list_songs = sorted([e[1] for e in songs])\n",
    "            print (f\"We don`t find that song, please find in the list below the songs of the desired artist: \\n{list_songs}\")"
   ]
  },
  {
   "cell_type": "code",
   "execution_count": 762,
   "metadata": {},
   "outputs": [
    {
     "data": {
      "text/html": [
       "<img src=\"https://is5-ssl.mzstatic.com/image/thumb/Music123/v4/39/50/b3/3950b304-580b-877c-c05b-1ba30a5a8239/source/60x60bb.jpg\"/>"
      ],
      "text/plain": [
       "<IPython.core.display.Image object>"
      ]
     },
     "metadata": {},
     "output_type": "display_data"
    },
    {
     "name": "stdout",
     "output_type": "stream",
     "text": [
      "Lyrics: There's a fire starting in my heart  Reaching a fever pitch and it's bringing me out the dark  Finally I can see you crystal clear  Go 'head and sell me out and I'll lay your ship bare  See how I leave with every piece of you  Don't underestimate the things that I will do  There's a fire starting in my heart  Reaching a fever pitch and its bringing me out the dark    The scars of your love remind me of us  They keep me thinking that we almost had it all  The scars of your love they leave me breathless, I can't help feeling  We could have had it all (You're gonna wish you never had met me)  Rolling in the deep (Tears are gonna fall, rolling in the deep)  You had my heart inside of your hand (You're gonna wish you never had met me)  And you played it to the beat (Tears are gonna fall, rolling in the deep)    Baby I have no story to be told  But I've heard one on you and I'm gonna make your head burn  Think of me in the depths of your despair  Making a home down there 'cause mine sure won't be shared    The scars of your love remind me of us (You're gonna wish you never had metme)  They keep me thinking that we almost had it all (Tears are gonna fall, rollingin the deep)  The scars of your love they leave me breathless, I can't help feeling  We could have had it all (You're gonna wish you never had met me)  Rolling in the deep (Tears are gonna fall, rolling in the deep)  You had my heart inside of your hand (You're gonna wish you never had met me)  And you played it to the beat (Tears are gonna fall, rolling in the deep)    We could've had it all  Rolling in the deep  You had my heart inside your hand  But you played it with a beating    Throw your soul through every open door  Count your blessings to find what you look for  Turned my sorrow into treasured gold  You pay me back in kind and reap just what you sow    (You're gonna wish you never had met me) We could've had it all  We could've had it all (Tears are gonna fall, rolling in the deep)  It all, it all, it all, (You're gonna wish you never had met me)  We could have had it all (You're gonna wish you never had met me)  Rolling in the deep (Tears are gonna fall, rolling in the deep)  You had my heart inside of your hand (You're gonna wish you never had met me)  And you played it to the beat (Tears are gonna fall, rolling in the deep)    We could've had it all (You're gonna wish you never had met me)  Rolling in the deep (Tears are gonna fall, rolling in the deep)  You had my heart inside your hand (You're gonna wish you never had met me)  But you played it, you played it, you played it, you played it  To the beat \n",
      "Price: 1.29$ \n",
      "Album: 21 \n",
      "Album price: 10.99$ \n",
      "None\n"
     ]
    }
   ],
   "source": [
    "lyrics(\"Adele\", \"Rolling In The Deep\")"
   ]
  },
  {
   "cell_type": "code",
   "execution_count": null,
   "metadata": {},
   "outputs": [],
   "source": []
  }
 ],
 "metadata": {
  "kernelspec": {
   "display_name": "Python 3",
   "language": "python",
   "name": "python3"
  },
  "language_info": {
   "codemirror_mode": {
    "name": "ipython",
    "version": 3
   },
   "file_extension": ".py",
   "mimetype": "text/x-python",
   "name": "python",
   "nbconvert_exporter": "python",
   "pygments_lexer": "ipython3",
   "version": "3.7.6"
  }
 },
 "nbformat": 4,
 "nbformat_minor": 4
}
